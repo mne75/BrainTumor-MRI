{
 "cells": [
  {
   "cell_type": "code",
   "execution_count": null,
   "id": "ae119252",
   "metadata": {
    "vscode": {
     "languageId": "plaintext"
    }
   },
   "outputs": [],
   "source": [
    "from tensorflow.keras.models import load_model\n",
    "import numpy as np\n",
    "from sklearn.metrics import classification_report, confusion_matrix\n",
    "import seaborn as sns\n",
    "import matplotlib.pyplot as plt\n",
    "\n",
    "model = load_model(\"../models/cnn_model.h5\")\n",
    "\n",
    "test_loss, test_acc = model.evaluate(test_data)\n",
    "print(\"Test accuracy:\", test_acc)\n",
    "\n",
    "# Confusion matrix\n",
    "preds = np.argmax(model.predict(test_data), axis=1)\n",
    "labels = test_data.classes\n",
    "\n",
    "cm = confusion_matrix(labels, preds)\n",
    "sns.heatmap(cm, annot=True, fmt='d', cmap='Blues')\n",
    "plt.show()"
   ]
  }
 ],
 "metadata": {
  "language_info": {
   "name": "python"
  }
 },
 "nbformat": 4,
 "nbformat_minor": 5
}
